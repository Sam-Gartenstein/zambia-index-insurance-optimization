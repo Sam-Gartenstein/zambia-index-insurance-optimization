{
 "cells": [
  {
   "cell_type": "markdown",
   "id": "00d850cc",
   "metadata": {},
   "source": [
    "## Max Notes\n",
    "\n",
    "- Think about likely journals for this \n",
    "\n",
    "- We want this applicable to not just Zambia, but also other places too\n",
    "\n",
    "- Maybe Bureau of Bulletin of the American Meteorological Society (BAMS), maybe an Applied ML type journal (I should probe around) -> do this first so we can pitch the novelty of the paper, and informs the format \n",
    "\n",
    "- We could do the K-means, but we didn't find in this particular case we would improve over Admin areas, and we may even mention it in the context, saying if statistical optimization is superior or using admin zones\n",
    "\n",
    "- Probably a good idea to redo the K-means anlayiss with the whole country \n",
    "\n",
    "- Max knows what percetnage of the premium they hold back for the admin costs, so it may implicitly tell us something about the unit costs, but Max will reach out to his contact \n",
    "\n",
    "- We know that the admin cost cannot be greater than the fraction of the premium people pay (so it is less than the per risk premium) -> the risk premium will be 0.2(1600), meaning it can't exceed 320 \n",
    "\n",
    "- PROBLEM -> this may not scale with the amount of farmer payout -> maybe instead of making this an optimization problem, we can just add the admin costs to the forgone payments, and see where there is an inflection point \n",
    "\n",
    "- We know how much the insurance is to payout on average, and if there is admin costs, we increase the costs, or eat the costs as an insurer -> if the latter, you put bounds on how much cost before it is no longer value \n",
    "\n",
    "- Max will email Isaac from the insurance company and see what he thinks and see if we can come up with a more reasonable basis \n",
    "\n",
    "**READ THIS AGAIN**\n",
    "\n",
    "https://wiiedu.iri.columbia.edu/?_gl=1*1leb7vk*_ga*MTg0NDY2NTA3Ni4xNzE3NjI0ODY4*_ga_4B6R5852LD*czE3NTY5Mjc4NzckbzUkZzAkdDE3NTY5Mjc4NzckajYwJGwwJGgw"
   ]
  },
  {
   "cell_type": "markdown",
   "id": "f1b1b703",
   "metadata": {},
   "source": [
    "### TODO\n",
    "\n",
    "1. Look into journals \n",
    "\n",
    "2. Put the K-means into context, but explain how this method is more systematic \n",
    "\n",
    "3. For my plot, but the PBI scores in parantheses\n",
    "\n",
    "4. Try K-means again with the whole country, and I will have more of a justification since we will have central and north (Use the most up-to-date districts and pronvices, which should be in the shape folder) "
   ]
  },
  {
   "cell_type": "markdown",
   "id": "ca45378d",
   "metadata": {},
   "source": [
    "### Notes 9/9/25\n",
    "\n",
    "- One thing we can do is instead of saying we are explicitly defining the cost function, but one thing we can do to express it in more relevant terms, or as a ratio -> the marginal improvement of each option -> as I move from one to the other, it would say this about my preference. Maybe it would be change in PBI or forgone payouts over N (maybe use an econ way of thinking about it) -> this will also be good for K-means, and shows the optimal K-means may not be the optimal K-means \n",
    "\n",
    "- Note, this is a methods paper, so we are giving them the tradeoffs, not the answer and it is informed by the science and data \n",
    "\n",
    "- Our journal will be Weather, Climate, and Society -> Look into their requirements and start putting my thesis into that format (Use AMS)"
   ]
  },
  {
   "cell_type": "code",
   "execution_count": null,
   "id": "1ff52789",
   "metadata": {},
   "outputs": [],
   "source": []
  }
 ],
 "metadata": {
  "kernelspec": {
   "display_name": "Python 3 (ipykernel)",
   "language": "python",
   "name": "python3"
  },
  "language_info": {
   "codemirror_mode": {
    "name": "ipython",
    "version": 3
   },
   "file_extension": ".py",
   "mimetype": "text/x-python",
   "name": "python",
   "nbconvert_exporter": "python",
   "pygments_lexer": "ipython3",
   "version": "3.11.4"
  }
 },
 "nbformat": 4,
 "nbformat_minor": 5
}
